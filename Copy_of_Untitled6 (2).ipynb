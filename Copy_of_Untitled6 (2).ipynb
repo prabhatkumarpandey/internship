{
  "nbformat": 4,
  "nbformat_minor": 0,
  "metadata": {
    "colab": {
      "provenance": []
    },
    "kernelspec": {
      "name": "python3",
      "display_name": "Python 3"
    },
    "language_info": {
      "name": "python"
    }
  },
  "cells": [
    {
      "cell_type": "markdown",
      "source": [
        "# Hand Written Digit prediction - Classification Analysis By Prabhat Kr. Pandey\n",
        "\n"
      ],
      "metadata": {
        "id": "Srh8lzIEYxOk"
      }
    },
    {
      "cell_type": "markdown",
      "source": [
        "step 1: import library"
      ],
      "metadata": {
        "id": "1dlSM2ImQ6Vd"
      }
    },
    {
      "cell_type": "code",
      "source": [
        "import pandas as pd\n",
        "\n",
        "import numpy as np\n",
        "\n",
        "import matplotlib.pyplot as plt"
      ],
      "metadata": {
        "id": "nEqIp3h0ROAA"
      },
      "execution_count": null,
      "outputs": []
    },
    {
      "cell_type": "markdown",
      "source": [
        "step 2:data import"
      ],
      "metadata": {
        "id": "ixTleOTQRsJq"
      }
    },
    {
      "cell_type": "code",
      "source": [
        "from sklearn.datasets import load_digits\n",
        "\n",
        "df = load_digits()\n",
        "\n",
        "_, axes = plt.subplots(nrows=1, ncols=4, figsize=(10,3))\n",
        "for ax, image, label in zip(axes, df.images, df.target):\n",
        "  ax.set_axis_off\n",
        "  ax.imshow(image, cmap=plt.cm.gray_r, interpolation=\"nearest\")\n",
        "  ax.set_title(\"Traning:%i\" %label)\n"
      ],
      "metadata": {
        "colab": {
          "base_uri": "https://localhost:8080/",
          "height": 251
        },
        "id": "38ndLJKMRzya",
        "outputId": "da2e46ed-1659-4ae3-c4e8-8669743fb1b1"
      },
      "execution_count": null,
      "outputs": [
        {
          "output_type": "display_data",
          "data": {
            "text/plain": [
              "<Figure size 1000x300 with 4 Axes>"
            ],
            "image/png": "[encoded data removed]"
          },
          "metadata": {}
        }
      ]
    },
    {
      "cell_type": "markdown",
      "source": [
        "# data preprocessing\n"
      ],
      "metadata": {
        "id": "eAjPxCH_Tpub"
      }
    },
    {
      "cell_type": "code",
      "source": [
        "df.images.shape\n",
        "\n",
        "df.images\n",
        "\n",
        "df.images[0].shape\n",
        "\n",
        "len(df.images)\n",
        "\n",
        "n_samples = len(df.images)\n",
        "data = df.images.reshape((n_samples,-1))\n",
        "\n",
        "data[0]\n",
        "\n",
        "data[0].shape\n",
        "\n",
        "data.shape"
      ],
      "metadata": {
        "colab": {
          "base_uri": "https://localhost:8080/"
        },
        "id": "njdJnpnDTxWL",
        "outputId": "61a3ef5c-718d-4ca1-86e8-c935cfb654df"
      },
      "execution_count": null,
      "outputs": [
        {
          "output_type": "execute_result",
          "data": {
            "text/plain": [
              "(1797, 64)"
            ]
          },
          "metadata": {},
          "execution_count": 19
        }
      ]
    },
    {
      "cell_type": "markdown",
      "source": [
        "# Scaling Image Data"
      ],
      "metadata": {
        "id": "eHnQn-loU2ex"
      }
    },
    {
      "cell_type": "code",
      "source": [
        "data.min()\n",
        "\n",
        "data.max()\n",
        "\n",
        "data = data/16\n",
        "\n",
        "data.min()\n",
        "\n",
        "data.max()\n",
        "\n",
        "data[0]"
      ],
      "metadata": {
        "colab": {
          "base_uri": "https://localhost:8080/"
        },
        "id": "HsK7tGhEVAlY",
        "outputId": "0bbef6d3-4d15-4c66-9008-fb7cbb99af20"
      },
      "execution_count": null,
      "outputs": [
        {
          "output_type": "execute_result",
          "data": {
            "text/plain": [
              "array([0.    , 0.    , 0.3125, 0.8125, 0.5625, 0.0625, 0.    , 0.    ,\n",
              "       0.    , 0.    , 0.8125, 0.9375, 0.625 , 0.9375, 0.3125, 0.    ,\n",
              "       0.    , 0.1875, 0.9375, 0.125 , 0.    , 0.6875, 0.5   , 0.    ,\n",
              "       0.    , 0.25  , 0.75  , 0.    , 0.    , 0.5   , 0.5   , 0.    ,\n",
              "       0.    , 0.3125, 0.5   , 0.    , 0.    , 0.5625, 0.5   , 0.    ,\n",
              "       0.    , 0.25  , 0.6875, 0.    , 0.0625, 0.75  , 0.4375, 0.    ,\n",
              "       0.    , 0.125 , 0.875 , 0.3125, 0.625 , 0.75  , 0.    , 0.    ,\n",
              "       0.    , 0.    , 0.375 , 0.8125, 0.625 , 0.    , 0.    , 0.    ])"
            ]
          },
          "metadata": {},
          "execution_count": 20
        }
      ]
    },
    {
      "cell_type": "markdown",
      "source": [
        "# Train Test Split Data"
      ],
      "metadata": {
        "id": "eJDPxoNnVqo5"
      }
    },
    {
      "cell_type": "code",
      "source": [
        "from sklearn.model_selection import train_test_split\n",
        "\n",
        "x_train, x_test, y_train, y_test = train_test_split(data, df.target, test_size=0.3)\n",
        "\n"
      ],
      "metadata": {
        "id": "ezY0fXhzV0dH"
      },
      "execution_count": null,
      "outputs": []
    },
    {
      "cell_type": "code",
      "source": [
        "x_train.shape, x_test.shape, y_train.shape, y_test.shape"
      ],
      "metadata": {
        "colab": {
          "base_uri": "https://localhost:8080/"
        },
        "id": "2huqtkCfU_Fj",
        "outputId": "faf835f0-1ab1-43ce-bf63-72da4f0a66cb"
      },
      "execution_count": null,
      "outputs": [
        {
          "output_type": "execute_result",
          "data": {
            "text/plain": [
              "((1257, 64), (540, 64), (1257,), (540,))"
            ]
          },
          "metadata": {},
          "execution_count": 24
        }
      ]
    },
    {
      "cell_type": "markdown",
      "source": [
        "# Random Forest Model"
      ],
      "metadata": {
        "id": "H_36TRIzbF27"
      }
    },
    {
      "cell_type": "code",
      "source": [
        "from sklearn.ensemble import RandomForestClassifier\n",
        "\n",
        "rf = RandomForestClassifier()\n",
        "\n",
        "rf.fit(x_train, y_train)"
      ],
      "metadata": {
        "colab": {
          "base_uri": "https://localhost:8080/",
          "height": 75
        },
        "id": "Y3vnR2hgbk0f",
        "outputId": "fbc907d8-c36b-4f0f-a18e-4222570b4aaa"
      },
      "execution_count": null,
      "outputs": [
        {
          "output_type": "execute_result",
          "data": {
            "text/plain": [
              "RandomForestClassifier()"
            ],
            "text/html": [
              "<style>#sk-container-id-1 {color: black;background-color: white;}#sk-container-id-1 pre{padding: 0;}#sk-container-id-1 div.sk-toggleable {background-color: white;}#sk-container-id-1 label.sk-toggleable__label {cursor: pointer;display: block;width: 100%;margin-bottom: 0;padding: 0.3em;box-sizing: border-box;text-align: center;}#sk-container-id-1 label.sk-toggleable__label-arrow:before {content: \"▸\";float: left;margin-right: 0.25em;color: #696969;}#sk-container-id-1 label.sk-toggleable__label-arrow:hover:before {color: black;}#sk-container-id-1 div.sk-estimator:hover label.sk-toggleable__label-arrow:before {color: black;}#sk-container-id-1 div.sk-toggleable__content {max-height: 0;max-width: 0;overflow: hidden;text-align: left;background-color: #f0f8ff;}#sk-container-id-1 div.sk-toggleable__content pre {margin: 0.2em;color: black;border-radius: 0.25em;background-color: #f0f8ff;}#sk-container-id-1 input.sk-toggleable__control:checked~div.sk-toggleable__content {max-height: 200px;max-width: 100%;overflow: auto;}#sk-container-id-1 input.sk-toggleable__control:checked~label.sk-toggleable__label-arrow:before {content: \"▾\";}#sk-container-id-1 div.sk-estimator input.sk-toggleable__control:checked~label.sk-toggleable__label {background-color: #d4ebff;}#sk-container-id-1 div.sk-label input.sk-toggleable__control:checked~label.sk-toggleable__label {background-color: #d4ebff;}#sk-container-id-1 input.sk-hidden--visually {border: 0;clip: rect(1px 1px 1px 1px);clip: rect(1px, 1px, 1px, 1px);height: 1px;margin: -1px;overflow: hidden;padding: 0;position: absolute;width: 1px;}#sk-container-id-1 div.sk-estimator {font-family: monospace;background-color: #f0f8ff;border: 1px dotted black;border-radius: 0.25em;box-sizing: border-box;margin-bottom: 0.5em;}#sk-container-id-1 div.sk-estimator:hover {background-color: #d4ebff;}#sk-container-id-1 div.sk-parallel-item::after {content: \"\";width: 100%;border-bottom: 1px solid gray;flex-grow: 1;}#sk-container-id-1 div.sk-label:hover label.sk-toggleable__label {background-color: #d4ebff;}#sk-container-id-1 div.sk-serial::before {content: \"\";position: absolute;border-left: 1px solid gray;box-sizing: border-box;top: 0;bottom: 0;left: 50%;z-index: 0;}#sk-container-id-1 div.sk-serial {display: flex;flex-direction: column;align-items: center;background-color: white;padding-right: 0.2em;padding-left: 0.2em;position: relative;}#sk-container-id-1 div.sk-item {position: relative;z-index: 1;}#sk-container-id-1 div.sk-parallel {display: flex;align-items: stretch;justify-content: center;background-color: white;position: relative;}#sk-container-id-1 div.sk-item::before, #sk-container-id-1 div.sk-parallel-item::before {content: \"\";position: absolute;border-left: 1px solid gray;box-sizing: border-box;top: 0;bottom: 0;left: 50%;z-index: -1;}#sk-container-id-1 div.sk-parallel-item {display: flex;flex-direction: column;z-index: 1;position: relative;background-color: white;}#sk-container-id-1 div.sk-parallel-item:first-child::after {align-self: flex-end;width: 50%;}#sk-container-id-1 div.sk-parallel-item:last-child::after {align-self: flex-start;width: 50%;}#sk-container-id-1 div.sk-parallel-item:only-child::after {width: 0;}#sk-container-id-1 div.sk-dashed-wrapped {border: 1px dashed gray;margin: 0 0.4em 0.5em 0.4em;box-sizing: border-box;padding-bottom: 0.4em;background-color: white;}#sk-container-id-1 div.sk-label label {font-family: monospace;font-weight: bold;display: inline-block;line-height: 1.2em;}#sk-container-id-1 div.sk-label-container {text-align: center;}#sk-container-id-1 div.sk-container {/* jupyter's `normalize.less` sets `[hidden] { display: none; }` but bootstrap.min.css set `[hidden] { display: none !important; }` so we also need the `!important` here to be able to override the default hidden behavior on the sphinx rendered scikit-learn.org. See: https://github.com/scikit-learn/scikit-learn/issues/21755 */display: inline-block !important;position: relative;}#sk-container-id-1 div.sk-text-repr-fallback {display: none;}</style><div id=\"sk-container-id-1\" class=\"sk-top-container\"><div class=\"sk-text-repr-fallback\"><pre>RandomForestClassifier()</pre><b>In a Jupyter environment, please rerun this cell to show the HTML representation or trust the notebook. <br />On GitHub, the HTML representation is unable to render, please try loading this page with nbviewer.org.</b></div><div class=\"sk-container\" hidden><div class=\"sk-item\"><div class=\"sk-estimator sk-toggleable\"><input class=\"sk-toggleable__control sk-hidden--visually\" id=\"sk-estimator-id-1\" type=\"checkbox\" checked><label for=\"sk-estimator-id-1\" class=\"sk-toggleable__label sk-toggleable__label-arrow\">RandomForestClassifier</label><div class=\"sk-toggleable__content\"><pre>RandomForestClassifier()</pre></div></div></div></div></div>"
            ]
          },
          "metadata": {},
          "execution_count": 32
        }
      ]
    },
    {
      "cell_type": "markdown",
      "source": [
        "# Predict Test Data"
      ],
      "metadata": {
        "id": "0gSoKrFuf8pV"
      }
    },
    {
      "cell_type": "code",
      "source": [
        "y_pred = rf.predict(x_test)\n",
        "\n",
        "y_pred"
      ],
      "metadata": {
        "colab": {
          "base_uri": "https://localhost:8080/"
        },
        "id": "_DCpTqVxgGJ3",
        "outputId": "1a5243a1-c9ac-4372-e9da-928cd9d63517"
      },
      "execution_count": null,
      "outputs": [
        {
          "output_type": "execute_result",
          "data": {
            "text/plain": [
              "array([6, 5, 5, 7, 7, 2, 1, 7, 5, 7, 3, 5, 2, 8, 5, 4, 7, 9, 8, 6, 3, 5,\n",
              "       8, 7, 6, 2, 1, 7, 7, 5, 9, 9, 3, 4, 7, 3, 0, 9, 0, 2, 8, 8, 9, 7,\n",
              "       7, 1, 3, 8, 8, 8, 8, 2, 0, 3, 7, 9, 8, 0, 6, 0, 4, 0, 6, 0, 2, 7,\n",
              "       4, 9, 4, 0, 3, 4, 8, 1, 2, 5, 7, 4, 4, 1, 5, 1, 0, 1, 6, 6, 1, 8,\n",
              "       8, 3, 9, 8, 7, 9, 6, 2, 4, 8, 1, 4, 5, 9, 5, 9, 2, 2, 8, 6, 0, 6,\n",
              "       9, 7, 2, 6, 2, 5, 4, 5, 3, 3, 8, 9, 0, 8, 0, 1, 6, 7, 4, 3, 3, 1,\n",
              "       8, 1, 3, 0, 0, 6, 7, 4, 9, 4, 6, 1, 0, 4, 2, 5, 1, 0, 1, 3, 8, 6,\n",
              "       0, 1, 2, 8, 4, 9, 6, 1, 0, 9, 6, 7, 6, 5, 6, 5, 1, 4, 5, 3, 6, 7,\n",
              "       8, 6, 5, 4, 6, 8, 9, 3, 0, 8, 3, 3, 9, 6, 7, 2, 1, 2, 2, 4, 3, 2,\n",
              "       1, 0, 6, 5, 2, 6, 4, 9, 9, 4, 6, 7, 8, 2, 2, 7, 0, 1, 0, 8, 9, 8,\n",
              "       7, 5, 1, 3, 2, 3, 7, 4, 5, 0, 6, 0, 9, 1, 5, 6, 0, 3, 5, 4, 8, 2,\n",
              "       7, 2, 3, 7, 4, 9, 2, 8, 2, 5, 6, 6, 7, 1, 6, 1, 4, 1, 7, 6, 3, 4,\n",
              "       2, 9, 8, 6, 3, 0, 0, 8, 5, 9, 3, 5, 9, 2, 7, 3, 2, 2, 5, 5, 9, 0,\n",
              "       8, 1, 1, 4, 8, 5, 4, 1, 1, 7, 4, 7, 4, 8, 8, 7, 4, 9, 1, 5, 2, 0,\n",
              "       6, 6, 3, 4, 0, 3, 0, 3, 2, 4, 5, 7, 9, 3, 1, 1, 7, 7, 7, 5, 5, 0,\n",
              "       6, 0, 7, 5, 5, 4, 6, 7, 2, 4, 2, 1, 4, 2, 6, 9, 3, 6, 3, 4, 1, 1,\n",
              "       5, 0, 6, 1, 3, 2, 2, 1, 2, 7, 7, 5, 5, 0, 4, 6, 9, 0, 2, 6, 3, 3,\n",
              "       9, 3, 3, 6, 4, 1, 6, 6, 3, 4, 4, 7, 4, 0, 6, 8, 4, 3, 3, 4, 3, 1,\n",
              "       0, 0, 9, 1, 9, 5, 2, 8, 1, 8, 3, 7, 7, 6, 3, 6, 4, 6, 5, 2, 8, 1,\n",
              "       1, 2, 0, 9, 1, 0, 0, 1, 2, 9, 2, 3, 1, 1, 1, 4, 8, 5, 3, 5, 2, 4,\n",
              "       3, 1, 9, 2, 2, 5, 4, 6, 4, 3, 7, 9, 8, 1, 2, 2, 5, 6, 5, 8, 2, 5,\n",
              "       7, 1, 5, 2, 7, 9, 5, 6, 9, 9, 6, 9, 9, 5, 0, 6, 8, 7, 2, 5, 7, 6,\n",
              "       2, 2, 0, 7, 3, 0, 1, 3, 8, 9, 4, 7, 4, 6, 2, 8, 4, 4, 0, 0, 7, 6,\n",
              "       1, 5, 8, 8, 0, 4, 1, 0, 3, 5, 1, 5, 4, 0, 4, 0, 1, 4, 1, 6, 0, 4,\n",
              "       6, 3, 4, 4, 9, 3, 0, 0, 7, 6, 2, 5])"
            ]
          },
          "metadata": {},
          "execution_count": 35
        }
      ]
    },
    {
      "cell_type": "markdown",
      "source": [
        "# Model Accuracy"
      ],
      "metadata": {
        "id": "t5K6j-MLgjoo"
      }
    },
    {
      "cell_type": "code",
      "source": [
        "from sklearn.metrics import confusion_matrix, classification_report\n",
        "\n",
        "confusion_matrix(y_test, y_pred)\n",
        "\n",
        "print(classification_report(y_test, y_pred))"
      ],
      "metadata": {
        "colab": {
          "base_uri": "https://localhost:8080/"
        },
        "id": "iTcaGsbHguXP",
        "outputId": "e4dfd07c-b7d6-446e-f4ea-ef0049724c19"
      },
      "execution_count": null,
      "outputs": [
        {
          "output_type": "stream",
          "name": "stdout",
          "text": [
            "              precision    recall  f1-score   support\n",
            "\n",
            "           0       0.96      1.00      0.98        52\n",
            "           1       1.00      0.98      0.99        59\n",
            "           2       1.00      0.98      0.99        57\n",
            "           3       0.96      1.00      0.98        51\n",
            "           4       0.98      0.98      0.98        60\n",
            "           5       0.94      0.98      0.96        52\n",
            "           6       0.98      0.98      0.98        60\n",
            "           7       0.98      1.00      0.99        52\n",
            "           8       0.98      0.92      0.95        50\n",
            "           9       0.98      0.94      0.96        47\n",
            "\n",
            "    accuracy                           0.98       540\n",
            "   macro avg       0.98      0.98      0.98       540\n",
            "weighted avg       0.98      0.98      0.98       540\n",
            "\n"
          ]
        }
      ]
    }
  ]
}